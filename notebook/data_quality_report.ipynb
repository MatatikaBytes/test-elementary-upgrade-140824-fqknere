{
 "cells": [
  {
   "cell_type": "code",
   "execution_count": 1,
   "metadata": {
    "execution": {
     "iopub.execute_input": "2024-01-23T13:30:03.841003Z",
     "iopub.status.busy": "2024-01-23T13:30:03.840622Z",
     "iopub.status.idle": "2024-01-23T13:30:30.424204Z",
     "shell.execute_reply": "2024-01-23T13:30:30.423172Z"
    }
   },
   "outputs": [],
   "source": [
    "%%capture\n",
    "!pip install matatika==1.13.0\n",
    "!pip install wheel\n",
    "!pip install pandas==1.4.3 numpy==1.26.4\n",
    "!pip install weasyprint==58.1\n",
    "!pip install matatika-iplotter==1.3.0\n",
    "!pip install git+https://github.com/Matatika/htmlcharts.git@v0.1.0"
   ]
  },
  {
   "cell_type": "code",
   "execution_count": 2,
   "metadata": {
    "execution": {
     "iopub.execute_input": "2024-01-23T13:30:30.427646Z",
     "iopub.status.busy": "2024-01-23T13:30:30.427390Z",
     "iopub.status.idle": "2024-01-23T13:30:31.744222Z",
     "shell.execute_reply": "2024-01-23T13:30:31.742827Z"
    }
   },
   "outputs": [],
   "source": [
    "import pandas as pd\n",
    "import os\n",
    "from datetime import datetime, timedelta, date\n",
    "from htmlcharts.bar import bar_chart\n",
    "from matatika.library import MatatikaClient\n",
    "from matatika.types import DataFormat\n",
    "from iplotter import ChartJSPlotter\n",
    "from weasyprint import HTML, CSS"
   ]
  },
  {
   "cell_type": "code",
   "execution_count": 3,
   "metadata": {
    "execution": {
     "iopub.execute_input": "2024-01-23T13:30:31.748684Z",
     "iopub.status.busy": "2024-01-23T13:30:31.748391Z",
     "iopub.status.idle": "2024-01-23T13:30:31.754935Z",
     "shell.execute_reply": "2024-01-23T13:30:31.754229Z"
    }
   },
   "outputs": [],
   "source": [
    "from matatika.library import MatatikaClient\n",
    "\n",
    "endpoint_url = os.getenv('ENDPOINT_URL')\n",
    "workspace_id = os.getenv('WORKSPACE_ID')\n",
    "\n",
    "# Attempt to use the pipeline 'AUTH_TOKEN'\n",
    "auth_token = os.getenv('AUTH_TOKEN')\n",
    "# On 401 use CLIENT_ID and CLIENT_SECRET to refresh\n",
    "client_id = os.getenv('NOTEBOOK_CLIENT_ID')\n",
    "client_secret = os.getenv('NOTEBOOK_CLIENT_SECRET')\n",
    "\n",
    "client = MatatikaClient(auth_token=auth_token, client_id=client_id, client_secret=client_secret, endpoint_url=endpoint_url, workspace_id=workspace_id)\n",
    "plotter = ChartJSPlotter()"
   ]
  },
  {
   "cell_type": "code",
   "execution_count": 4,
   "metadata": {
    "execution": {
     "iopub.execute_input": "2024-01-23T13:30:31.758885Z",
     "iopub.status.busy": "2024-01-23T13:30:31.758606Z",
     "iopub.status.idle": "2024-01-23T13:30:33.962565Z",
     "shell.execute_reply": "2024-01-23T13:30:33.962055Z"
    }
   },
   "outputs": [],
   "source": [
    "# Test failure tables data\n",
    "new_failing_tests = client.fetch(\"elementary/export_new_failing_tests\")\n",
    "new_failing_tests_df = pd.DataFrame(new_failing_tests)\n",
    "\n",
    "all_failing_tests = client.fetch(\"elementary/export_all_failing_tests\")\n",
    "all_failing_tests_df = pd.DataFrame(all_failing_tests)\n",
    "\n",
    "\n",
    "# Chart data\n",
    "chart_dataset_id = 'elementary/dashboard/bars/test-failures'\n",
    "\n",
    "dataset_information = client.get_dataset(chart_dataset_id)\n",
    "\n",
    "chart_data = client.fetch(chart_dataset_id)"
   ]
  },
  {
   "cell_type": "code",
   "execution_count": 5,
   "metadata": {
    "execution": {
     "iopub.execute_input": "2024-01-23T13:30:33.965495Z",
     "iopub.status.busy": "2024-01-23T13:30:33.965159Z",
     "iopub.status.idle": "2024-01-23T13:30:33.969412Z",
     "shell.execute_reply": "2024-01-23T13:30:33.968869Z"
    }
   },
   "outputs": [],
   "source": [
    "# Dates logic\n",
    "\n",
    "current_date = datetime.now()\n",
    "seven_days_ago_date =  current_date - timedelta(days=6)\n",
    "\n",
    "current_date_str = current_date.strftime(\"%B %d, %Y\")\n",
    "seven_days_ago_str = seven_days_ago_date.strftime(\"%B %d, %Y\")\n",
    "\n",
    "date_range = f\"{seven_days_ago_str} - {current_date_str}\"\n",
    "\n",
    "last_seven_days_dates = []\n",
    "\n",
    "for i in range(6, -1, -1):\n",
    "    date_str = (current_date - timedelta(days=i)).strftime(\"%Y-%m-%d\")\n",
    "    last_seven_days_dates.append(date_str)"
   ]
  },
  {
   "cell_type": "code",
   "execution_count": 6,
   "metadata": {
    "execution": {
     "iopub.execute_input": "2024-01-23T13:30:33.971601Z",
     "iopub.status.busy": "2024-01-23T13:30:33.971302Z",
     "iopub.status.idle": "2024-01-23T13:30:33.979669Z",
     "shell.execute_reply": "2024-01-23T13:30:33.979006Z"
    }
   },
   "outputs": [],
   "source": [
    "# Data points for display in email\n",
    "\n",
    "issues_today = 0\n",
    "issues_yesterday = 0\n",
    "yesterday_comparison = 0\n",
    "for data_point in chart_data:\n",
    "\n",
    "    if datetime.strptime(data_point[\"Date\"], '%Y-%m-%d').date() == datetime.now().date():\n",
    "        issues_today = int(data_point[\"Failures\"])\n",
    "\n",
    "    if datetime.strptime(data_point[\"Date\"], '%Y-%m-%d').date() == datetime.now().date() - timedelta(days = 1):\n",
    "        issues_yesterday = int(data_point[\"Failures\"])\n",
    "\n",
    "issue_comparison =  issues_today - issues_yesterday\n",
    "\n",
    "if issue_comparison == 0 and issues_today == 0 and issues_yesterday == 0:\n",
    "    issue_percentage = 0\n",
    "elif issues_today > 0 and issues_yesterday == 0:\n",
    "    issue_percentage = 100\n",
    "else:\n",
    "    issue_percentage = round(issue_comparison / issues_yesterday * 100)\n",
    "\n",
    "\n",
    "issue_percentage_arrow = ''\n",
    "\n",
    "if issue_percentage > 0:\n",
    "    issue_percentage_color = 'red'\n",
    "    issue_percentage_arrow = '&uarr;'\n",
    "    \n",
    "elif issue_percentage < 0:\n",
    "    issue_percentage_color = 'green'\n",
    "    issue_percentage_arrow = '&darr;'\n",
    "else: \n",
    "    issue_percentage_color = 'darkgrey'\n",
    "    "
   ]
  },
  {
   "cell_type": "code",
   "execution_count": 7,
   "metadata": {
    "execution": {
     "iopub.execute_input": "2024-01-23T13:30:33.982647Z",
     "iopub.status.busy": "2024-01-23T13:30:33.982496Z",
     "iopub.status.idle": "2024-01-23T13:30:33.986966Z",
     "shell.execute_reply": "2024-01-23T13:30:33.986429Z"
    }
   },
   "outputs": [],
   "source": [
    "# Set up email html\n",
    "\n",
    "html = \"\"\"\n",
    "<head>\n",
    "    <style>\n",
    "        .content {\n",
    "            max-width: 700px;\n",
    "            text-align: left;\n",
    "            margin: auto;\n",
    "        }\n",
    "\n",
    "        .bar-display {\n",
    "            font: 18px sans-serif;\n",
    "            text-align: center;\n",
    "            color: rgb(120, 120, 120);\n",
    "            position: relative;\n",
    "            margin-top: auto;\n",
    "        }\n",
    "\n",
    "        .label {\n",
    "            display: block;\n",
    "            color: black;\n",
    "            font-size: 14px;\n",
    "        }\n",
    "\n",
    "        .flex-charts {\n",
    "            align-items: center; \n",
    "            justify-content: center;\n",
    "        }\n",
    "\n",
    "        .m2 {\n",
    "            margin-bottom: 2px;\n",
    "            margin-top: 2px;\n",
    "        }\n",
    "\n",
    "        .mb5 {\n",
    "            margin-bottom: 5px;\n",
    "        }\n",
    "\n",
    "        .mb30 {\n",
    "            margin-bottom: 30px;\n",
    "        }\n",
    "\n",
    "        .mt0 {\n",
    "            margin-top: 0px;\n",
    "        }\n",
    "\n",
    "        .mt10 {\n",
    "            margin-top: 10px;\n",
    "        }\n",
    "\n",
    "        .mt15 {\n",
    "            margin-top: 15px;\n",
    "        }\n",
    "\n",
    "        .mt30 {\n",
    "            margin-top: 30px;\n",
    "        }\n",
    "\n",
    "        .pl10 {\n",
    "            padding-left: 10px;\n",
    "        }\n",
    "\n",
    "        .pr10 {\n",
    "            padding-right: 10px;\n",
    "        }\n",
    "\n",
    "        hr {\n",
    "            border: 0;\n",
    "            height: 1px;\n",
    "            border-top: 1px solid rgba(0, 0, 0, 0.2);\n",
    "            border-bottom: 1px solid rgba(255, 255, 255, 0.2);\n",
    "        }\n",
    "\n",
    "        .dataframe td {\n",
    "            overflow-wrap: anywhere;\n",
    "        }\n",
    "\n",
    "        .dataframe {\n",
    "            table-layout: auto;\n",
    "            width: 100%;\n",
    "        }\n",
    "\n",
    "        .dataframe td {\n",
    "            text-align: left;\n",
    "        }\n",
    "\n",
    "    </style>\n",
    "</head>\n",
    "<div class=\"content\">\n",
    "\"\"\"\n",
    "\n",
    "html += f'''\n",
    "<div class=\"header\">\n",
    "<img src=\"https://app.matatika.com/assets/images/utility/matatika.png\" style=\"width: 80px; float: left;\"/>\n",
    "<div style=\"text-align: right;\">\n",
    "<h1 class=\"mb5\">Daily Report</h1>\n",
    "<p class=\"mt10\">{date_range}</p>\n",
    "</div>\n",
    "</div>\n",
    "<hr class=\"mb30 mt30\">\n",
    "<div>\n",
    "<div class=\"pr10\">\n",
    "<h3 class=\"mt0 mb5\">Total Issues</h3>\n",
    "<h1 class=\"issue-count m2\">{issues_today}</h1>\n",
    "<p class=\"m2\">vs. yesterday</p>\n",
    "<p class=\"m2\" style=\"color: {issue_percentage_color}\">{issue_percentage}% {issue_percentage_arrow}</p>\n",
    "</div>\n",
    "</div>\n",
    "<a href=\"https://app.matatika.com/l/{workspace_id}/dashboard\" class=\"mt15\">View Dashboard</a>\n",
    "<div class=\"flex-charts\">\n",
    "<div class=\"chart-holder\">\n",
    "'''"
   ]
  },
  {
   "cell_type": "code",
   "execution_count": 8,
   "metadata": {
    "execution": {
     "iopub.execute_input": "2024-01-23T13:30:33.991102Z",
     "iopub.status.busy": "2024-01-23T13:30:33.990689Z",
     "iopub.status.idle": "2024-01-23T13:30:33.996918Z",
     "shell.execute_reply": "2024-01-23T13:30:33.996381Z"
    }
   },
   "outputs": [],
   "source": [
    "# Create chart for email\n",
    "\n",
    "# Add data points for each day in the last 7 days missing from the data, set failures to 0\n",
    "for d in last_seven_days_dates:\n",
    "    dates_in_chart_data = []\n",
    "    for data_point in chart_data:\n",
    "        dates_in_chart_data.append(data_point[\"Date\"])\n",
    "    if d not in dates_in_chart_data:\n",
    "        new_data_point = {}\n",
    "        new_data_point['Date'] = d\n",
    "        new_data_point['Failures'] = '0'\n",
    "        chart_data.append(new_data_point)\n",
    "\n",
    "data_dict = {}\n",
    "\n",
    "# Make all failures values ints\n",
    "for data_point in chart_data:\n",
    "    data_dict[data_point['Date']] = int(data_point[\"Failures\"])\n",
    "\n",
    "# Order the dates\n",
    "sorted_dict = dict(sorted(data_dict.items(), key=lambda x: x[0]))\n",
    "\n",
    "chart_data_dict = {}\n",
    "\n",
    "# Change the date keys into 'Mon', 'Tue'...\n",
    "for date_str, value in sorted_dict.items():\n",
    "    date = datetime.strptime(date_str, '%Y-%m-%d')\n",
    "    chart_data_dict[date.strftime('%a')] = value\n",
    "  \n",
    "html += bar_chart(chart_data_dict, bar_color=\"rgba(255, 204, 203, 0.8)\", chart_width=700, bar_height=350)\n",
    "\n",
    "html += '''\n",
    "</div>\n",
    "</div>\n",
    "<hr class=\"mb30 mt30\">\n",
    "<div>\n",
    "<h3>New Issues</h3>\n",
    "'''\n"
   ]
  },
  {
   "cell_type": "code",
   "execution_count": 9,
   "metadata": {
    "execution": {
     "iopub.execute_input": "2024-01-23T13:30:33.999721Z",
     "iopub.status.busy": "2024-01-23T13:30:33.999521Z",
     "iopub.status.idle": "2024-01-23T13:30:34.005537Z",
     "shell.execute_reply": "2024-01-23T13:30:34.004844Z"
    }
   },
   "outputs": [],
   "source": [
    "# Create tables to list tests in email\n",
    "html_output = new_failing_tests_df.to_html(index=False, header=False)\n",
    "if new_failing_tests:\n",
    "    html += html_output.replace('style=\"text-align: right;\"', 'border: 0;\"').replace('border=\"1\"', '')\n",
    "else:\n",
    "    html += '<p>No new issues</p>'\n",
    "\n",
    "html += \"<h3>All Issues</h3>\"\n",
    "\n",
    "html_output = all_failing_tests_df.to_html(index=False)\n",
    "if all_failing_tests:\n",
    "    html += html_output.replace('style=\"text-align: right;\"', 'style=\"border: 0;\"').replace('border=\"1\"', '')\n",
    "else:\n",
    "    html += '<p>No issues</p>'\n",
    "\n",
    "html += '</div></div>'"
   ]
  },
  {
   "cell_type": "code",
   "execution_count": 10,
   "metadata": {
    "execution": {
     "iopub.execute_input": "2024-01-23T13:30:34.008960Z",
     "iopub.status.busy": "2024-01-23T13:30:34.008705Z",
     "iopub.status.idle": "2024-01-23T13:30:34.013500Z",
     "shell.execute_reply": "2024-01-23T13:30:34.012580Z"
    }
   },
   "outputs": [],
   "source": [
    "# Write html out to file\n",
    "with open(\"email_template.html\", 'w') as f:\n",
    "    f.write(html)"
   ]
  }
 ],
 "metadata": {
  "kernelspec": {
   "display_name": "venv",
   "language": "python",
   "name": "python3"
  },
  "language_info": {
   "codemirror_mode": {
    "name": "ipython",
    "version": 3
   },
   "file_extension": ".py",
   "mimetype": "text/x-python",
   "name": "python",
   "nbconvert_exporter": "python",
   "pygments_lexer": "ipython3",
   "version": "3.9.18"
  }
 },
 "nbformat": 4,
 "nbformat_minor": 2
}
